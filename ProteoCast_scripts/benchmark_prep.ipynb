{
 "cells": [
  {
   "cell_type": "markdown",
   "metadata": {},
   "source": [
    "## This noteboook reads raw annotation data from FlyBase, DGRP or DEST2 to transform it into dataframes.\n",
    "- And add all the necessary information for each mutation. "
   ]
  },
  {
   "cell_type": "code",
   "execution_count": 1,
   "metadata": {},
   "outputs": [],
   "source": [
    "import pandas as pd \n",
    "import numpy as np\n",
    "import re \n",
    "import os\n",
    "from utils import alph\n",
    "import scipy.stats as ss\n",
    "from Bio import SeqIO\n",
    "import statistics\n",
    "import time"
   ]
  },
  {
   "cell_type": "markdown",
   "metadata": {},
   "source": [
    "## DATA"
   ]
  },
  {
   "cell_type": "code",
   "execution_count": null,
   "metadata": {},
   "outputs": [],
   "source": [
    "WORK_DIR = os.path.dirname(os.path.abspath('')) + os.sep\n",
    "\n",
    "\n",
    "'''## DEST2\n",
    "df_DEST2Raw  = pd.read_csv(f'{WORK_DIR}/data/DEST_all_snp', sep='\\t')\n",
    "## DGRP\n",
    "df_DGRPRaw = pd.read_csv(f'{WORK_DIR}/data/dgrp.fb557.annot.txt', sep='\\\\t', names=['ID', 'allele', 'GeneAnnotation', 'RegulationAnnotation'])\n",
    "## Lethal Mutations annotated on FlyBase\n",
    "df_LethalRaw = pd.read_csv(f'{WORK_DIR}/data/LethalAllele_EMS.txt', sep='\\t')\n",
    "## Hypomorohic alleles retreived from FlyBase\n",
    "df_HypomorphicRaw = pd.read_csv(f'../data/HypomorphicAllele_EMS.txt', sep='\\t')  '''\n",
    "\n",
    "## csv files\n",
    "dc_proten_seqs = SeqIO.to_dict(SeqIO.parse(f'{WORK_DIR}/data/'+'dmel-all-translation-r6.44.fasta', \"fasta\")) \n",
    "df_Dmel_recap = pd.read_csv(f'{WORK_DIR}/csv/Dmel6.44PredictionsRecap.csv', sep=',', index_col=0)\n",
    "df_Dmel_recap_pp = df_Dmel_recap.reset_index()[['FBpp_ID', 'FBtr_ID','FBgn_ID', 'GEMME_GlobalConfidence', 'F_obs', 'Length']]\n",
    "df_mapping = pd.read_csv(f'{WORK_DIR}/csv/mapping_database.csv', index_col=0, sep=',')"
   ]
  },
  {
   "cell_type": "markdown",
   "metadata": {},
   "source": [
    "## Different re patterns definition"
   ]
  },
  {
   "cell_type": "code",
   "execution_count": 7,
   "metadata": {},
   "outputs": [],
   "source": [
    "## RE PATTERNS # Define regular expressions for pattern matching\n",
    "\n",
    "patternPhenotype = re.compile(r'==\\s*([^<]+?)\\s*</cvterm>')\n",
    "patternMutProt = re.compile('[A-Z]{1}[0-9]{1,5}[A-Z]{1} \\| [0-9,A-Z,a-z,\\-,\\(,\\)]*')\n",
    "\n",
    "##DGRP\n",
    "patternGene = re.compile('FBgn[0-9]*')\n",
    "patternTrans = re.compile('FBtr[0-9]*')\n",
    "\n",
    "patternMut = re.compile('[A-Z]{1}[0-9]{1,5}[A-Z]{1}')\n",
    "\n",
    "\n",
    "## regular expressions\n",
    "patternMutLethal = re.compile('(?<=Amino acid replacement: )[A-Z]{1}[0-9]{1,5}[A-Z]{1}')#[\\.]\n",
    "patternNAchange = re.compile('(?<= na_change=)[A-Z]{1,3}[0-9]{1,9}[A-Z]{1,3}')\n",
    "termMut_pattern = re.compile('[A-Z]{1}[0-9]{1,5}term')\n",
    "patternPhenotype = re.compile('(?<=\\<newline\\>)*all die *')"
   ]
  },
  {
   "cell_type": "markdown",
   "metadata": {},
   "source": [
    "-  some proteins don't have the same annotanion/id between the sources "
   ]
  },
  {
   "cell_type": "code",
   "execution_count": 3,
   "metadata": {},
   "outputs": [],
   "source": [
    "# Mapping of three-letter to one-letter amino acid codes\n",
    "aa_mapping = {\n",
    "    'Ala': 'A', 'Arg': 'R', 'Asn': 'N', 'Asp': 'D', 'Cys': 'C',\n",
    "    'Glu': 'E', 'Gln': 'Q', 'Gly': 'G', 'His': 'H', 'Ile': 'I',\n",
    "    'Leu': 'L', 'Lys': 'K', 'Met': 'M', 'Phe': 'F', 'Pro': 'P',\n",
    "    'Ser': 'S', 'Thr': 'T', 'Trp': 'W', 'Tyr': 'Y', 'Val': 'V'\n",
    "}\n",
    "\n",
    "# Function to transform amino acid change notation\n",
    "def transform_aa_change(aa_change):\n",
    "    if aa_change.startswith('p.'):\n",
    "        aa_change = aa_change[2:]  # Remove 'p.' prefix\n",
    "        for three_letter, one_letter in aa_mapping.items():\n",
    "            aa_change = aa_change.replace(three_letter, one_letter)\n",
    "    return aa_change\n",
    "\n",
    "def check_wt_aa(row):\n",
    "    fbpp_id = row['FBpp_ID']\n",
    "    aa_pos = row['Residue'] - 1  # Convert to 0-based index\n",
    "    wt_aa = row['Mutation'][0]  # Wild-type amino acid\n",
    "    seq_record = dc_proten_seqs.get(fbpp_id)\n",
    "    if seq_record:\n",
    "        return seq_record.seq[aa_pos] == wt_aa\n",
    "    return False\n",
    "\n",
    "# Create a dico with ProteoCast data for a specifi set of FBpp_ID\n",
    "def create_gemme_dico(df):\n",
    "    gemme_data = {}\n",
    "    for fbpp_id in df['FBpp_ID'].unique():\n",
    "        id = df_mapping.loc[fbpp_id, 'id']\n",
    "        try:\n",
    "            gemme_data[fbpp_id] = pd.read_csv(f'../Drosophila_ProteoCast/{id}/4.{fbpp_id}_ProteoCast.csv')\n",
    "        except: \n",
    "            continue\n",
    "    return gemme_data\n",
    "\n",
    "# Function to get GEMME score and class for a given mutation\n",
    "def get_gemme_score_class(row, gemme_data):\n",
    "    fbpp_id = row['FBpp_ID']\n",
    "    aa_change = row['Mutation']\n",
    "    if fbpp_id in gemme_data:\n",
    "        match = gemme_data[fbpp_id][gemme_data[fbpp_id]['Mutation'] == aa_change]\n",
    "        if not match.empty:\n",
    "            return match.iloc[0]['GEMME_score'], match.iloc[0].get('GEMME_rank', None), match.iloc[0]['Variant_class'], match.iloc[0].get('GEMME_LocalConfidence', None)\n",
    "    return None, None, None, None\n",
    "\n",
    "# Add zscore and class for the new values\n",
    "def calculate_gmm3_class_and_zscore(row, gemme_data):\n",
    "    FBpp = row['FBpp_ID']\n",
    "    GEMME_score = row['GEMME_score']\n",
    "    try:\n",
    "        threshUnc = df_Dmel_recap.loc[FBpp, 'GMM3_uncertain']\n",
    "    except:\n",
    "        print('No threshold found for ', FBpp)\n",
    "    G_N = gemme_data[FBpp].loc[gemme_data[FBpp]['GEMME_score'] >= threshUnc, 'GEMME_score'].tolist()\n",
    "    if G_N:\n",
    "        muN = statistics.mean(G_N)\n",
    "        stdN = statistics.stdev(G_N)\n",
    "        zscore = (GEMME_score - muN) / stdN\n",
    "    else:\n",
    "        zscore = np.nan\n",
    "    \n",
    "    return zscore\n"
   ]
  },
  {
   "cell_type": "code",
   "execution_count": 17,
   "metadata": {},
   "outputs": [],
   "source": [
    "def CorrectProtname(prot):\n",
    "    \"\"\"if 'Cg25C' in prot or 'Hsp60' in prot:\n",
    "        continue\"\"\"\n",
    "    if 'eIF-4a' in prot:\n",
    "        prot='eIF4A'+prot[-3:]\n",
    "    if 'Cctgamma' in prot:\n",
    "        prot='CCT3'+prot[-3:]\n",
    "    if 'Itp-r83A' in prot:\n",
    "        prot='Itpr'+prot[-3:]\n",
    "    if 'RpII215-PA' in prot:\n",
    "        prot='Polr2A-PA'\n",
    "    if prot=='DNApol-gamma35-PA':\n",
    "        prot='PolG2-PA'\n",
    "    if 'Elf' in prot:\n",
    "        prot='eRF3'+prot[-3:]\n",
    "    if 'Argk' in prot:\n",
    "        prot='Argk1'+prot[-3:]\n",
    "    if 'CG15896' in prot:\n",
    "        prot='mldr'+prot[-3:]\n",
    "    if 'eIF-1A' in prot:\n",
    "        prot='eIF1A'+prot[-3:]\n",
    "    if 'RpII140' in prot:\n",
    "        prot=\"Polr2B\"+prot[-3:]\n",
    "    if 'CG17829' in prot:\n",
    "        prot='Hinfp'+prot[-3:]\n",
    "    if 'nct' in prot:\n",
    "        prot='Nct'+prot[-3:]\n",
    "    if 'ade3' in prot:\n",
    "        prot='Grat'+prot[-3:]\n",
    "    if 'CG8184' in prot:\n",
    "        prot=\"HUWE1\"+prot[-3:]\n",
    "    if 'Cg25C' in prot:\n",
    "        prot='Col4a1'+prot[-3:]\n",
    "    if 'Grat' in prot:\n",
    "        prot='Gart'+prot[-3:]\n",
    "    if prot=='tam-PA':\n",
    "        prot='PolG1-PA'\n",
    "    if 'Hsp60' in prot:\n",
    "        prot='Hsp60A'+prot[-3:]\n",
    "    if 'DNApol-alpha60-PA' in prot:\n",
    "        prot='Prim2-PA'\n",
    "    if 'mTor' in prot:\n",
    "        prot='Tor'+prot[-3:]\n",
    "    if 'Delta' in prot:\n",
    "        prot='Dl'+prot[-3:]\n",
    "    if 'Cs1' in prot:\n",
    "        prot='kdn'+prot[-3:]\n",
    "    if 'hry' in prot:\n",
    "        prot='h'+prot[-3:]\n",
    "    if 'nanos' in prot:\n",
    "        prot='nos'+prot[-3:]\n",
    "    return prot"
   ]
  },
  {
   "cell_type": "markdown",
   "metadata": {},
   "source": [
    "## DEST2  \n",
    "- file *dest.all.PoolSNP.001.50.24Aug2024.ann.vcf.gz* without population data"
   ]
  },
  {
   "cell_type": "markdown",
   "metadata": {},
   "source": [
    "- \"the current release includes 530 high quality Pool-Seq samples (>32,000 flies), comprising a combination of the previous DEST release with newly sequenced pools, collected between 2016 and 2021 by DrosEU, as well as publicly available Pool-Seq samples from published studies of wild-derived D. melanogaster\"; 753 columns in the original file\n",
    "- 4 801 078 lines #SNPs\n",
    "- All kinds of SNPs 27 {'splice_region_variant&intron_variant', 'initiator_codon_variant', '3_prime_UTR_variant', 'intergenic_region', 'splice_donor_variant&intron_variant', 'splice_region_variant&stop_retained_variant', 'missense_variant', 'splice_acceptor_variant&intron_variant', 'downstream_gene_variant', 'initiator_codon_variant&splice_region_variant', 'synonymous_variant', 'intron_variant', 'upstream_gene_variant', 'splice_region_variant', 'stop_lost', '5_prime_UTR_premature_start_codon_gain_variant', 'splice_region_variant&synonymous_variant', 'start_lost&splice_region_variant', 'start_lost', 'stop_gained&splice_region_variant', 'stop_retained_variant', 'stop_gained', '5_prime_UTR_variant', 'stop_lost&splice_region_variant', 'splice_region_variant&non_coding_transcript_exon_variant', 'non_coding_transcript_exon_variant', 'missense_variant&splice_region_variant'}\n",
    "- we are interested in missense_variant (and missense_variant&splice_region_variant? )\n",
    "- 343 636 / 346 319 missense SNPs in at least one gene \n",
    "- among them there are mutations in pseudogene that are not included in 6.44 proteome (protein-coding but no known proteins... FBgn0031208)"
   ]
  },
  {
   "cell_type": "code",
   "execution_count": null,
   "metadata": {},
   "outputs": [
    {
     "name": "stdout",
     "output_type": "stream",
     "text": [
      "In total there are 27 SNPs types in the dataset\n",
      "In total there are 343636 missense SNPs in the dataset\n"
     ]
    }
   ],
   "source": [
    "## retreiving all the SNP types associated to the SNPs\n",
    "df_DEST2Raw['SNP_TYPE'] = df_DEST2Raw['INFO'].apply(lambda x: set(y.split('|')[1] for y in x.split(';')[5].split(',')))\n",
    "snp_type_union = set.union(*df_DEST2Raw['SNP_TYPE'])\n",
    "print(f'In total there are {len(snp_type_union)} SNPs types in the dataset')\n",
    "## filter the SNPs labeled as missense variant\n",
    "df_DEST_missense = df_DEST2Raw[df_DEST2Raw['SNP_TYPE'].apply(lambda x: 'missense_variant' in x)]\n",
    "df_DEST_missense.reset_index(drop=True, inplace=True)\n",
    "print(f'In total there are {len(df_DEST_missense)} missense SNPs in the dataset')\n",
    "del df_DEST2Raw"
   ]
  },
  {
   "cell_type": "code",
   "execution_count": 16,
   "metadata": {},
   "outputs": [],
   "source": [
    "del df_DEST2Raw"
   ]
  },
  {
   "cell_type": "code",
   "execution_count": 7,
   "metadata": {},
   "outputs": [],
   "source": [
    "# Function to extract missense_variant annotations with additional information\n",
    "def extract_missense_variants(info):\n",
    "    \n",
    "    annotations = info.split('ANN=')[1].split(',')\n",
    "    ## example of an annotation 'C|missense_variant|MODERATE|CG11023|FBgn0031208|transcript|FBtr0300690|protein_coding|1/3|c.32A>C|p.Glu11Ala|183/1802|32/1443|11/480||'\n",
    "\n",
    "    fbgn_list = []; fbtr_list = []; ## FBgn and FBtr IDs\n",
    "    cdna_pos_list = [] ## cDNA position e.g c.32A>C\n",
    "    aa_change_list = [] ##'p.Glu11Ala'\n",
    "    aa_pos_list = []; protein_length_list = []\n",
    "    for annotation in annotations:\n",
    "        fields = annotation.split('|')\n",
    "        if fields[1] == 'missense_variant':\n",
    "            fbgn_list.append(fields[4])\n",
    "            fbtr_list.append(fields[6])\n",
    "            cdna_pos_list.append(fields[9])\n",
    "            aa_change = transform_aa_change(fields[10])\n",
    "            aa_change_list.append(aa_change)\n",
    "            aa_pos, protein_length = fields[13].split('/')\n",
    "            aa_pos_list.append(int(aa_pos))\n",
    "            protein_length_list.append(int(protein_length))\n",
    "    return fbgn_list, fbtr_list, cdna_pos_list, aa_change_list, aa_pos_list, protein_length_list"
   ]
  },
  {
   "cell_type": "code",
   "execution_count": null,
   "metadata": {},
   "outputs": [
    {
     "name": "stdout",
     "output_type": "stream",
     "text": [
      "filter FBgn and FBtr 773511 SNPs\n"
     ]
    }
   ],
   "source": [
    "\n",
    "# Apply the function to the DataFrame\n",
    "df_DEST_missense[['FBgn_ID', 'FBtr_ID', 'cDNA_pos', 'Mutation', 'Residue', 'Length']] = df_DEST_missense['INFO'].apply(lambda x: pd.Series(extract_missense_variants(x)))\n",
    "# Explode the lists in the DataFrame\n",
    "df_DEST_missense = df_DEST_missense.explode(['FBgn_ID', 'FBtr_ID', 'cDNA_pos', 'Mutation', 'Residue', 'Length'])\n",
    "# Reset the index after exploding\n",
    "df_DEST_missense.reset_index(drop=True, inplace=True)\n",
    "\n",
    "# Filter snp_Dest_Missense_exploded for FBgn and FBtr that exist in df_Dmel_recap\n",
    "df_DEST_missense = df_DEST_missense[\n",
    "    (df_DEST_missense['FBgn_ID'].isin(df_Dmel_recap_pp['FBgn_ID'])) &\n",
    "    (df_DEST_missense['FBtr_ID'].isin(df_Dmel_recap_pp['FBtr_ID']))\n",
    "]\n",
    "# Display the filtered DataFrame\n",
    "print('filter FBgn and FBtr', df_DEST_missense.shape[0], 'SNPs')\n",
    "# Merge the filtered DataFrame with df_Dmel_recap_pp on FBtr_ID\n",
    "df_DEST_missense = df_DEST_missense.merge(df_Dmel_recap_pp[['FBtr_ID', 'Length', 'FBpp_ID']], on='FBtr_ID', how='left')\n"
   ]
  },
  {
   "cell_type": "code",
   "execution_count": null,
   "metadata": {},
   "outputs": [
    {
     "name": "stdout",
     "output_type": "stream",
     "text": [
      "Total mismatches: 0\n",
      "Dataframe with representative proteoforms with matching length: 600315\n",
      "Dataframe with representative proteoforms with matching length and wild-type amino acid: 600315\n",
      "without redundant aa changes (599153, 22)\n"
     ]
    }
   ],
   "source": [
    "# Verify if the Protein_length corresponds to Length\n",
    "df_DEST_missense['Length_match'] = df_DEST_missense['Length_x'].astype(int) == df_DEST_missense['Length_y']\n",
    "\n",
    "# Display the rows where the lengths do not match\n",
    "length_mismatch = df_DEST_missense[~df_DEST_missense['Length_match']]\n",
    "print(f'Total mismatches: {length_mismatch.shape[0]}')\n",
    "df_DEST_missense = df_DEST_missense[(df_DEST_missense['Length_match'])&(df_DEST_missense['FBpp_ID'].isin(df_Dmel_recap.loc[df_Dmel_recap['Representative_FBpp']==True].index.tolist()))].copy()\n",
    "print(f'Dataframe with representative proteoforms with matching length: {df_DEST_missense.shape[0]}')\n",
    "\n",
    "\n",
    "df_DEST_missense['WT_AA_match'] = df_DEST_missense.apply(check_wt_aa, axis=1)\n",
    "df_DEST_missense = df_DEST_missense.loc[df_DEST_missense['WT_AA_match']]\n",
    "print(f'Dataframe with representative proteoforms with matching length and wild-type amino acid: {df_DEST_missense.shape[0]}')#539383\n",
    "# Merge df_snp_representative with df_Dmel_recap to get F_obs values\n",
    "df_snp_representative = df_DEST_missense.merge(df_Dmel_recap_pp[['FBpp_ID','GEMME_GlobalConfidence', 'F_obs']], on='FBpp_ID', how='left')\n",
    "# create a dico with the proteocast data (~2 min for 20k proteins)\n",
    "gemme_data = create_gemme_dico(df_snp_representative)\n",
    "## remove duplicates C>A,T producing the same aa change for example. \n",
    "df_snp_representative = df_snp_representative.loc[~df_snp_representative.duplicated(subset=['FBgn_ID','FBpp_ID', 'Mutation'], keep='first')]\n",
    "print('without redundant aa changes', df_snp_representative.shape)\n",
    "## add GEMME scores and rank, variant class and local confidence (~15 minutes for 20k proteins)\n",
    "df_snp_representative[['GEMME_score','GEMME_rank', 'Variant_class', 'GEMME_LocalConfidence']] = df_snp_representative.apply(lambda row: pd.Series(get_gemme_score_class(row, gemme_data)), axis=1)\n",
    "\n",
    "## create a SNP_ID by combining the chromosome and the position\n",
    "df_snp_representative['SNP_ID'] = df_snp_representative['#CHROM'].astype(str) + '_' + df_snp_representative['POS'].astype(str)\n",
    "## keep only frequencies and depth information from INFO column\n",
    "df_snp_representative['INFO'] = df_snp_representative['INFO'].apply(lambda x: x.split('ANN')[0])\n",
    "\n",
    "df_snp_representative = df_snp_representative[['SNP_ID', 'INFO', 'FBgn_ID', 'FBtr_ID', 'Mutation', 'Residue',\n",
    "       'Length_x', 'FBpp_ID', 'GEMME_GlobalConfidence', 'GEMME_score', 'GEMME_rank', 'Variant_class',\n",
    "       'GEMME_LocalConfidence', 'F_obs']].copy()\n",
    "df_snp_representative.rename(columns={'Length_x':'Length'}, inplace=True)\n",
    "df_snp_representative['Set_name'] = 'DEST2'"
   ]
  },
  {
   "cell_type": "code",
   "execution_count": 39,
   "metadata": {},
   "outputs": [],
   "source": [
    "df_snp_representative.to_csv(f'{WORK_DIR}/csv/DEST_allRepresentativeProteoforms.csv', index=False)"
   ]
  },
  {
   "cell_type": "markdown",
   "metadata": {},
   "source": [
    "### keep only the proteoform with max F_obs per SNP"
   ]
  },
  {
   "cell_type": "code",
   "execution_count": 48,
   "metadata": {},
   "outputs": [
    {
     "name": "stdout",
     "output_type": "stream",
     "text": [
      "Number of unique SNPs: 331362\n"
     ]
    },
    {
     "data": {
      "text/html": [
       "<div>\n",
       "<style scoped>\n",
       "    .dataframe tbody tr th:only-of-type {\n",
       "        vertical-align: middle;\n",
       "    }\n",
       "\n",
       "    .dataframe tbody tr th {\n",
       "        vertical-align: top;\n",
       "    }\n",
       "\n",
       "    .dataframe thead th {\n",
       "        text-align: right;\n",
       "    }\n",
       "</style>\n",
       "<table border=\"1\" class=\"dataframe\">\n",
       "  <thead>\n",
       "    <tr style=\"text-align: right;\">\n",
       "      <th></th>\n",
       "      <th>SNP_ID</th>\n",
       "      <th>INFO</th>\n",
       "      <th>FBgn_ID</th>\n",
       "      <th>FBtr_ID</th>\n",
       "      <th>Mutation</th>\n",
       "      <th>Residue</th>\n",
       "      <th>Length</th>\n",
       "      <th>FBpp_ID</th>\n",
       "      <th>GEMME_GlobalConfidence</th>\n",
       "      <th>GEMME_score</th>\n",
       "      <th>GEMME_rank</th>\n",
       "      <th>Variant_class</th>\n",
       "      <th>GEMME_LocalConfidence</th>\n",
       "      <th>F_obs</th>\n",
       "      <th>Set_name</th>\n",
       "    </tr>\n",
       "  </thead>\n",
       "  <tbody>\n",
       "    <tr>\n",
       "      <th>77888</th>\n",
       "      <td>2L_10000016</td>\n",
       "      <td>ADP=51.2535;DP=36800;NC=35;AF=0.544433;AC=20141;</td>\n",
       "      <td>FBgn0051755</td>\n",
       "      <td>FBtr0303882</td>\n",
       "      <td>E471D</td>\n",
       "      <td>471</td>\n",
       "      <td>1476</td>\n",
       "      <td>FBpp0292885</td>\n",
       "      <td>True</td>\n",
       "      <td>-2.133489</td>\n",
       "      <td>0.531</td>\n",
       "      <td>neutral</td>\n",
       "      <td>True</td>\n",
       "      <td>29.24</td>\n",
       "      <td>DEST2</td>\n",
       "    </tr>\n",
       "    <tr>\n",
       "      <th>77889</th>\n",
       "      <td>2L_10000023</td>\n",
       "      <td>ADP=52.3055;DP=36980;NC=46;AF=0.00352139;AC=176;</td>\n",
       "      <td>FBgn0051755</td>\n",
       "      <td>FBtr0303882</td>\n",
       "      <td>S469T</td>\n",
       "      <td>469</td>\n",
       "      <td>1476</td>\n",
       "      <td>FBpp0292885</td>\n",
       "      <td>True</td>\n",
       "      <td>-3.987892</td>\n",
       "      <td>0.834</td>\n",
       "      <td>impactful</td>\n",
       "      <td>True</td>\n",
       "      <td>29.24</td>\n",
       "      <td>DEST2</td>\n",
       "    </tr>\n",
       "    <tr>\n",
       "      <th>77890</th>\n",
       "      <td>2L_10000029</td>\n",
       "      <td>ADP=51.5216;DP=36941;NC=36;AF=0.00914833;AC=318;</td>\n",
       "      <td>FBgn0051755</td>\n",
       "      <td>FBtr0303882</td>\n",
       "      <td>A467G</td>\n",
       "      <td>467</td>\n",
       "      <td>1476</td>\n",
       "      <td>FBpp0292885</td>\n",
       "      <td>True</td>\n",
       "      <td>-4.775772</td>\n",
       "      <td>0.910</td>\n",
       "      <td>impactful</td>\n",
       "      <td>True</td>\n",
       "      <td>29.24</td>\n",
       "      <td>DEST2</td>\n",
       "    </tr>\n",
       "    <tr>\n",
       "      <th>77891</th>\n",
       "      <td>2L_10000059</td>\n",
       "      <td>ADP=51.8454;DP=36551;NC=48;AF=0.0129318;AC=551;</td>\n",
       "      <td>FBgn0051755</td>\n",
       "      <td>FBtr0303882</td>\n",
       "      <td>P457L</td>\n",
       "      <td>457</td>\n",
       "      <td>1476</td>\n",
       "      <td>FBpp0292885</td>\n",
       "      <td>True</td>\n",
       "      <td>-0.703098</td>\n",
       "      <td>0.222</td>\n",
       "      <td>neutral</td>\n",
       "      <td>True</td>\n",
       "      <td>29.24</td>\n",
       "      <td>DEST2</td>\n",
       "    </tr>\n",
       "    <tr>\n",
       "      <th>77892</th>\n",
       "      <td>2L_10000089</td>\n",
       "      <td>ADP=51.5622;DP=35217;NC=70;AF=0.612867;AC=21823;</td>\n",
       "      <td>FBgn0051755</td>\n",
       "      <td>FBtr0303882</td>\n",
       "      <td>C447Y</td>\n",
       "      <td>447</td>\n",
       "      <td>1476</td>\n",
       "      <td>FBpp0292885</td>\n",
       "      <td>True</td>\n",
       "      <td>-0.198017</td>\n",
       "      <td>0.088</td>\n",
       "      <td>neutral</td>\n",
       "      <td>True</td>\n",
       "      <td>29.24</td>\n",
       "      <td>DEST2</td>\n",
       "    </tr>\n",
       "  </tbody>\n",
       "</table>\n",
       "</div>"
      ],
      "text/plain": [
       "            SNP_ID                                              INFO  \\\n",
       "77888  2L_10000016  ADP=51.2535;DP=36800;NC=35;AF=0.544433;AC=20141;   \n",
       "77889  2L_10000023  ADP=52.3055;DP=36980;NC=46;AF=0.00352139;AC=176;   \n",
       "77890  2L_10000029  ADP=51.5216;DP=36941;NC=36;AF=0.00914833;AC=318;   \n",
       "77891  2L_10000059   ADP=51.8454;DP=36551;NC=48;AF=0.0129318;AC=551;   \n",
       "77892  2L_10000089  ADP=51.5622;DP=35217;NC=70;AF=0.612867;AC=21823;   \n",
       "\n",
       "           FBgn_ID      FBtr_ID Mutation Residue Length      FBpp_ID  \\\n",
       "77888  FBgn0051755  FBtr0303882    E471D     471   1476  FBpp0292885   \n",
       "77889  FBgn0051755  FBtr0303882    S469T     469   1476  FBpp0292885   \n",
       "77890  FBgn0051755  FBtr0303882    A467G     467   1476  FBpp0292885   \n",
       "77891  FBgn0051755  FBtr0303882    P457L     457   1476  FBpp0292885   \n",
       "77892  FBgn0051755  FBtr0303882    C447Y     447   1476  FBpp0292885   \n",
       "\n",
       "      GEMME_GlobalConfidence  GEMME_score  GEMME_rank Variant_class  \\\n",
       "77888                   True    -2.133489       0.531       neutral   \n",
       "77889                   True    -3.987892       0.834     impactful   \n",
       "77890                   True    -4.775772       0.910     impactful   \n",
       "77891                   True    -0.703098       0.222       neutral   \n",
       "77892                   True    -0.198017       0.088       neutral   \n",
       "\n",
       "      GEMME_LocalConfidence  F_obs Set_name  \n",
       "77888                  True  29.24    DEST2  \n",
       "77889                  True  29.24    DEST2  \n",
       "77890                  True  29.24    DEST2  \n",
       "77891                  True  29.24    DEST2  \n",
       "77892                  True  29.24    DEST2  "
      ]
     },
     "execution_count": 48,
     "metadata": {},
     "output_type": "execute_result"
    }
   ],
   "source": [
    "## remove rows with nan values meaning we don't have GEMME predictions for these proteins\n",
    "df_snp_representative = df_snp_representative.loc[~df_snp_representative['F_obs'].isnull()]\n",
    "# Group by unique SNPs and select the row with the maximum F_obs for each group\n",
    "df_snp_max_fobs = df_snp_representative.loc[df_snp_representative.groupby(['SNP_ID','FBgn_ID'])['F_obs'].idxmax()]\n",
    "# Display the result\n",
    "print(f'Number of unique SNPs: {df_snp_max_fobs.shape[0]}')\n",
    "df_snp_max_fobs.head()"
   ]
  },
  {
   "cell_type": "code",
   "execution_count": 63,
   "metadata": {},
   "outputs": [],
   "source": [
    "## add GMM3zscore\n",
    "df_snp_max_fobs[ 'GMM3_zscoreNeutral'] = df_snp_max_fobs.apply(lambda row: pd.Series(calculate_gmm3_class_and_zscore(row, gemme_data)), axis=1)"
   ]
  },
  {
   "cell_type": "code",
   "execution_count": 94,
   "metadata": {},
   "outputs": [],
   "source": [
    "df_snp_max_fobs.to_csv(f'{WORK_DIR}/csv/DEST_maxFobsProteoforms.csv', index=False)"
   ]
  },
  {
   "cell_type": "code",
   "execution_count": 67,
   "metadata": {},
   "outputs": [],
   "source": [
    "del gemme_data"
   ]
  },
  {
   "cell_type": "markdown",
   "metadata": {},
   "source": [
    "## Hypomorphic data "
   ]
  },
  {
   "cell_type": "code",
   "execution_count": 68,
   "metadata": {},
   "outputs": [],
   "source": [
    "## Filter raws without mapping to the genome information\n",
    "df_HypomorphicRaw = df_HypomorphicRaw[df_HypomorphicRaw['MUTATIONS_MAPPED_TO_GENOME']!='-']\n",
    "df_HypomorphicRaw.rename(columns={'#SUBMITTED ID':'Allele'}, inplace=True)\n",
    "\n",
    "def extract_missense_variants_Hypomorphic(row):\n",
    "\n",
    "    phenotypic_class = row['PHENOTYPIC_CLASS'].split('<newline>')\n",
    "    phenotypes = sum([patternPhenotype.findall(x) for x in phenotypic_class], [])\n",
    "\n",
    "    mutations_mapped = patternMutProt.findall(row['MUTATIONS_MAPPED_TO_GENOME'])\n",
    "    l_mut=[]; l_prot=[]\n",
    "    if mutations_mapped:\n",
    "        l_mut_prot = [(i.split(' | ')[0],i.split(' | ')[1])  for i in mutations_mapped]\n",
    "        for mut, prot in l_mut_prot:\n",
    "            prot=CorrectProtname(prot)\n",
    "            try:\n",
    "                FBpp_ID = df_Dmel_recap.loc[df_Dmel_recap['Protein_symbol']==prot].index[0]\n",
    "                if FBpp_ID:\n",
    "                    l_mut.append(mut)\n",
    "                    l_prot.append(FBpp_ID)\n",
    "                else:\n",
    "                    print('protein symbol not found:', prot)\n",
    "            except:\n",
    "                print('protein symbol not found:', prot)\n",
    "                continue\n",
    "\n",
    "        return l_mut, l_prot, phenotypes\n",
    "    else:\n",
    "        return None, None, None\n",
    "            \n",
    "        \n"
   ]
  },
  {
   "cell_type": "code",
   "execution_count": 104,
   "metadata": {},
   "outputs": [
    {
     "name": "stdout",
     "output_type": "stream",
     "text": [
      "protein symbol not found: bru1-PL\n",
      "Dataframe with representative proteoforms with matching length: 950\n",
      "Dataframe with representative proteoforms with matching length and wild-type amino acid: 950\n",
      "without redundant aa changes (928, 12)\n"
     ]
    }
   ],
   "source": [
    "df_Hypomorphic = df_HypomorphicRaw.copy()\n",
    "df_Hypomorphic[['Mutation', 'FBpp_ID', 'Phenotype']] = df_Hypomorphic.apply(lambda row: pd.Series(extract_missense_variants_Hypomorphic(row)), axis=1)\n",
    "df_Hypomorphic=df_Hypomorphic[['Allele', 'Mutation', 'FBpp_ID', 'Phenotype']].copy()\n",
    "# Explode the lists in the DataFrame\n",
    "df_Hypomorphic = df_Hypomorphic.explode(['FBpp_ID','Mutation'])\n",
    "df_Hypomorphic = df_Hypomorphic.loc[~df_Hypomorphic['FBpp_ID'].isnull()].copy()\n",
    "# Reset the index after exploding\n",
    "df_Hypomorphic.reset_index(drop=True, inplace=True)\n",
    "df_Hypomorphic = df_Hypomorphic.loc[(df_Hypomorphic['FBpp_ID'].isin(df_Dmel_recap_pp['FBpp_ID']))]\n",
    "df_Hypomorphic['Set_name'] = 'Hypomorphic'\n",
    "\n",
    "#### verify\n",
    "df_Hypomorphic = df_Hypomorphic.merge(df_Dmel_recap_pp[['FBtr_ID','FBgn_ID', 'GEMME_GlobalConfidence', 'F_obs', 'Length', 'FBpp_ID']], on='FBpp_ID', how='left')\n",
    "\n",
    "df_Hypomorphic = df_Hypomorphic[(df_Hypomorphic['FBpp_ID'].isin(df_Dmel_recap.loc[df_Dmel_recap['Representative_FBpp']==True].index.tolist()))].copy()\n",
    "print(f'Dataframe with representative proteoforms with matching length: {df_Hypomorphic.shape[0]}')\n",
    "df_Hypomorphic['Residue'] = df_Hypomorphic['Mutation'].apply(lambda x: int(x[1:-1]))\n",
    "df_Hypomorphic['WT_AA_match'] = df_Hypomorphic.apply(check_wt_aa, axis=1)\n",
    "df_Hypomorphic = df_Hypomorphic.loc[df_Hypomorphic['WT_AA_match']]\n",
    "print(f'Dataframe with representative proteoforms with matching length and wild-type amino acid: {df_Hypomorphic.shape[0]}')\n",
    "# create a dico with the proteocast data \n",
    "gemme_data = create_gemme_dico(df_Hypomorphic)\n",
    "## remove duplicates C>A,T producing the same aa change for example. \n",
    "df_Hypomorphic = df_Hypomorphic.loc[~df_Hypomorphic.duplicated(subset=['FBgn_ID','FBpp_ID', 'Mutation'], keep='first')].copy()\n",
    "print('without redundant aa changes', df_Hypomorphic.shape)\n",
    "## add GEMME scores and rank, variant class and local confidence\n",
    "df_Hypomorphic[['GEMME_score','GEMME_rank', 'Variant_class', 'GEMME_LocalConfidence']] = df_Hypomorphic.apply(lambda row: pd.Series(get_gemme_score_class(row, gemme_data)), axis=1)\n",
    "del df_Hypomorphic['WT_AA_match']"
   ]
  },
  {
   "cell_type": "code",
   "execution_count": 105,
   "metadata": {},
   "outputs": [],
   "source": [
    "df_Hypomorphic.to_csv(f'{WORK_DIR}/csv/Hypomorphic_allRepresentativeProteoforms.csv', index=False)"
   ]
  },
  {
   "cell_type": "markdown",
   "metadata": {},
   "source": [
    "### Keep only one FBpp per SNP"
   ]
  },
  {
   "cell_type": "code",
   "execution_count": 108,
   "metadata": {},
   "outputs": [
    {
     "name": "stdout",
     "output_type": "stream",
     "text": [
      "(928, 16)\n",
      "(928, 16)\n",
      "Number of unique SNPs: 403\n"
     ]
    },
    {
     "data": {
      "text/html": [
       "<div>\n",
       "<style scoped>\n",
       "    .dataframe tbody tr th:only-of-type {\n",
       "        vertical-align: middle;\n",
       "    }\n",
       "\n",
       "    .dataframe tbody tr th {\n",
       "        vertical-align: top;\n",
       "    }\n",
       "\n",
       "    .dataframe thead th {\n",
       "        text-align: right;\n",
       "    }\n",
       "</style>\n",
       "<table border=\"1\" class=\"dataframe\">\n",
       "  <thead>\n",
       "    <tr style=\"text-align: right;\">\n",
       "      <th></th>\n",
       "      <th>Allele</th>\n",
       "      <th>Mutation</th>\n",
       "      <th>FBpp_ID</th>\n",
       "      <th>Phenotype</th>\n",
       "      <th>Set_name</th>\n",
       "      <th>FBtr_ID</th>\n",
       "      <th>FBgn_ID</th>\n",
       "      <th>GEMME_GlobalConfidence</th>\n",
       "      <th>F_obs</th>\n",
       "      <th>Length</th>\n",
       "      <th>Residue</th>\n",
       "      <th>WT_AA_match</th>\n",
       "      <th>GEMME_score</th>\n",
       "      <th>GEMME_rank</th>\n",
       "      <th>Variant_class</th>\n",
       "      <th>GEMME_LocalConfidence</th>\n",
       "    </tr>\n",
       "  </thead>\n",
       "  <tbody>\n",
       "    <tr>\n",
       "      <th>170</th>\n",
       "      <td>FBal0000017</td>\n",
       "      <td>P348S</td>\n",
       "      <td>FBpp0081153</td>\n",
       "      <td>[lethal, recessive, male semi-sterile]</td>\n",
       "      <td>Hypomorphic</td>\n",
       "      <td>FBtr0081639</td>\n",
       "      <td>FBgn0003884</td>\n",
       "      <td>True</td>\n",
       "      <td>96.84</td>\n",
       "      <td>450</td>\n",
       "      <td>348</td>\n",
       "      <td>True</td>\n",
       "      <td>-1.839196</td>\n",
       "      <td>0.534</td>\n",
       "      <td>uncertain</td>\n",
       "      <td>True</td>\n",
       "    </tr>\n",
       "    <tr>\n",
       "      <th>1076</th>\n",
       "      <td>FBal0000019</td>\n",
       "      <td>V177M</td>\n",
       "      <td>FBpp0081153</td>\n",
       "      <td>[female semi-sterile, viable, male sterile, re...</td>\n",
       "      <td>Hypomorphic</td>\n",
       "      <td>FBtr0081639</td>\n",
       "      <td>FBgn0003884</td>\n",
       "      <td>True</td>\n",
       "      <td>96.84</td>\n",
       "      <td>450</td>\n",
       "      <td>177</td>\n",
       "      <td>True</td>\n",
       "      <td>-0.224037</td>\n",
       "      <td>0.121</td>\n",
       "      <td>neutral</td>\n",
       "      <td>True</td>\n",
       "    </tr>\n",
       "    <tr>\n",
       "      <th>608</th>\n",
       "      <td>FBal0000027</td>\n",
       "      <td>G56D</td>\n",
       "      <td>FBpp0081524</td>\n",
       "      <td>[electrophoretic variant, male sterile, male f...</td>\n",
       "      <td>Hypomorphic</td>\n",
       "      <td>FBtr0082046</td>\n",
       "      <td>FBgn0003889</td>\n",
       "      <td>True</td>\n",
       "      <td>96.78</td>\n",
       "      <td>446</td>\n",
       "      <td>56</td>\n",
       "      <td>True</td>\n",
       "      <td>-0.092218</td>\n",
       "      <td>0.080</td>\n",
       "      <td>neutral</td>\n",
       "      <td>True</td>\n",
       "    </tr>\n",
       "    <tr>\n",
       "      <th>1415</th>\n",
       "      <td>FBal0000028</td>\n",
       "      <td>D114N</td>\n",
       "      <td>FBpp0081524</td>\n",
       "      <td>[electrophoretic variant, male sterile, abnorm...</td>\n",
       "      <td>Hypomorphic</td>\n",
       "      <td>FBtr0082046</td>\n",
       "      <td>FBgn0003889</td>\n",
       "      <td>True</td>\n",
       "      <td>96.78</td>\n",
       "      <td>446</td>\n",
       "      <td>114</td>\n",
       "      <td>True</td>\n",
       "      <td>-0.704746</td>\n",
       "      <td>0.254</td>\n",
       "      <td>neutral</td>\n",
       "      <td>True</td>\n",
       "    </tr>\n",
       "    <tr>\n",
       "      <th>1116</th>\n",
       "      <td>FBal0000267</td>\n",
       "      <td>R29C</td>\n",
       "      <td>FBpp0082597</td>\n",
       "      <td>[flightless, dominant]</td>\n",
       "      <td>Hypomorphic</td>\n",
       "      <td>FBtr0083143</td>\n",
       "      <td>FBgn0000047</td>\n",
       "      <td>True</td>\n",
       "      <td>98.19</td>\n",
       "      <td>376</td>\n",
       "      <td>29</td>\n",
       "      <td>True</td>\n",
       "      <td>-0.662521</td>\n",
       "      <td>0.253</td>\n",
       "      <td>neutral</td>\n",
       "      <td>True</td>\n",
       "    </tr>\n",
       "  </tbody>\n",
       "</table>\n",
       "</div>"
      ],
      "text/plain": [
       "           Allele Mutation      FBpp_ID  \\\n",
       "170   FBal0000017    P348S  FBpp0081153   \n",
       "1076  FBal0000019    V177M  FBpp0081153   \n",
       "608   FBal0000027     G56D  FBpp0081524   \n",
       "1415  FBal0000028    D114N  FBpp0081524   \n",
       "1116  FBal0000267     R29C  FBpp0082597   \n",
       "\n",
       "                                              Phenotype     Set_name  \\\n",
       "170              [lethal, recessive, male semi-sterile]  Hypomorphic   \n",
       "1076  [female semi-sterile, viable, male sterile, re...  Hypomorphic   \n",
       "608   [electrophoretic variant, male sterile, male f...  Hypomorphic   \n",
       "1415  [electrophoretic variant, male sterile, abnorm...  Hypomorphic   \n",
       "1116                             [flightless, dominant]  Hypomorphic   \n",
       "\n",
       "          FBtr_ID      FBgn_ID GEMME_GlobalConfidence  F_obs  Length  Residue  \\\n",
       "170   FBtr0081639  FBgn0003884                   True  96.84     450      348   \n",
       "1076  FBtr0081639  FBgn0003884                   True  96.84     450      177   \n",
       "608   FBtr0082046  FBgn0003889                   True  96.78     446       56   \n",
       "1415  FBtr0082046  FBgn0003889                   True  96.78     446      114   \n",
       "1116  FBtr0083143  FBgn0000047                   True  98.19     376       29   \n",
       "\n",
       "      WT_AA_match  GEMME_score  GEMME_rank Variant_class  \\\n",
       "170          True    -1.839196       0.534     uncertain   \n",
       "1076         True    -0.224037       0.121       neutral   \n",
       "608          True    -0.092218       0.080       neutral   \n",
       "1415         True    -0.704746       0.254       neutral   \n",
       "1116         True    -0.662521       0.253       neutral   \n",
       "\n",
       "      GEMME_LocalConfidence  \n",
       "170                    True  \n",
       "1076                   True  \n",
       "608                    True  \n",
       "1415                   True  \n",
       "1116                   True  "
      ]
     },
     "execution_count": 108,
     "metadata": {},
     "output_type": "execute_result"
    }
   ],
   "source": [
    "print(df_Hypomorphic.shape)\n",
    "## remove rows with nan values meaning we don't have GEMME predictions for these proteins\n",
    "df_Hypomorphic = df_Hypomorphic.loc[~df_Hypomorphic['F_obs'].isnull()]\n",
    "print(df_Hypomorphic.shape)\n",
    "# Group by unique SNPs and select the row with the maximum F_obs for each group\n",
    "df_Hypomorphic_max_fobs = df_Hypomorphic.loc[df_Hypomorphic.groupby(['Allele', 'FBgn_ID'])['F_obs'].idxmax()]\n",
    "# Display the result\n",
    "print(f'Number of unique SNPs: {df_Hypomorphic_max_fobs.shape[0]}')\n",
    "## add GMM3zscore (takes ~10 minutes for  proteins)\n",
    "df_Hypomorphic_max_fobs[ 'GMM3_zscoreNeutral'] = df_Hypomorphic_max_fobs.apply(lambda row: pd.Series(calculate_gmm3_class_and_zscore(row, gemme_data)), axis=1)\n",
    "df_Hypomorphic_max_fobs['is_lethal'] = df_Hypomorphic_max_fobs['Phenotype'].apply(lambda x: any(('lethal' in phenotype) and ('partially' not in phenotype) for phenotype in x) if isinstance(x, list) else False)"
   ]
  },
  {
   "cell_type": "code",
   "execution_count": null,
   "metadata": {},
   "outputs": [],
   "source": [
    "df_Hypomorphic_max_fobs.to_csv(f'{WORK_DIR}/csv/Hypomorphic_maxFobsProteoforms.csv', index=False)"
   ]
  },
  {
   "cell_type": "code",
   "execution_count": 111,
   "metadata": {},
   "outputs": [],
   "source": [
    "del gemme_data"
   ]
  },
  {
   "cell_type": "markdown",
   "metadata": {},
   "source": [
    "## DGRP"
   ]
  },
  {
   "cell_type": "code",
   "execution_count": 24,
   "metadata": {},
   "outputs": [],
   "source": [
    "def extract_missense_variants_dgrp(row):\n",
    "    \n",
    "    l_FBtr=[]; l_Mut = [];l_prot_len = []\n",
    "   \n",
    "    tr_annot = (re.search('(?<=TranscriptAnnot\\[).*(?=\\])', row['GeneAnnotation'])).group(0).split(';')                                 ## transcripts and mutations (#mut = #SNPs)\n",
    "    tr_annot = [\n",
    "        (patternTrans.search(x).group(0), patternMut.search(x).group(0), x.split('|')[4])\n",
    "        for x in tr_annot if 'NON_SYNONYMOUS_CODING' in x and 'MISSENSE' in x\n",
    "    ]\n",
    "\n",
    "    l_FBtr, l_Mut, l_prot_len = zip(*tr_annot) if tr_annot else ([], [], [])\n",
    "\n",
    "    \n",
    "    return l_FBtr, l_Mut, l_prot_len"
   ]
  },
  {
   "cell_type": "code",
   "execution_count": 39,
   "metadata": {},
   "outputs": [],
   "source": [
    "df_DGRPRaw_missense = df_DGRPRaw[df_DGRPRaw['GeneAnnotation'].str.contains('NON_SYNONYMOUS_CODING')]\n",
    "del df_DGRPRaw\n",
    "del df_DGRPRaw_missense['RegulationAnnotation']"
   ]
  },
  {
   "cell_type": "code",
   "execution_count": 44,
   "metadata": {},
   "outputs": [
    {
     "name": "stdout",
     "output_type": "stream",
     "text": [
      "(399149, 6)\n",
      "filter FBgn and FBtr 391515 SNPs\n",
      "Dataframe with representative proteoforms with matching length: 308361\n",
      "Dataframe with representative proteoforms with matching length and wild-type amino acid: 308092\n",
      "gemme dico took: 184.2169952392578 seconds for 20009 proteins\n",
      "without redundant aa changes (308050, 14)\n",
      "add gemme scores etc took: 487.3049352169037 seconds\n",
      "Index(['ID', 'allele', 'GeneAnnotation', 'FBtr_ID', 'Mutation', 'Length_x',\n",
      "       'FBgn_ID', 'Length_y', 'FBpp_ID', 'GEMME_GlobalConfidence', 'F_obs',\n",
      "       'Length_match', 'Residue', 'WT_AA_match', 'GEMME_score', 'GEMME_rank',\n",
      "       'Variant_class', 'GEMME_LocalConfidence'],\n",
      "      dtype='object')\n"
     ]
    }
   ],
   "source": [
    "\"\"\"# Apply the function to the DataFrame\n",
    "df_DGRPRaw_missense[['FBtr_ID', 'Mutation', 'Length']] = df_DGRPRaw_missense.apply(lambda x: pd.Series(extract_missense_variants_dgrp(x)), axis=1)\n",
    "# Explode the lists in the DataFrame\n",
    "df_DGRPRaw_missense = df_DGRPRaw_missense.explode(['FBtr_ID', 'Mutation', 'Length'])\"\"\"\n",
    "print(df_DGRPRaw_missense.shape)\n",
    "# Filter FBtr that exist in df_Dmel_recap\n",
    "df_DGRPRaw_missense = df_DGRPRaw_missense[\n",
    "    (df_DGRPRaw_missense['FBtr_ID'].isin(df_Dmel_recap_pp['FBtr_ID']))\n",
    "]\n",
    "# Display the filtered DataFrame\n",
    "print('filter FBgn and FBtr', df_DGRPRaw_missense.shape[0], 'SNPs')\n",
    "# Merge the filtered DataFrame with df_Dmel_recap_pp on FBtr_ID\n",
    "df_DGRPRaw_missense = df_DGRPRaw_missense.merge(df_Dmel_recap_pp[['FBgn_ID', 'FBtr_ID', 'Length', 'FBpp_ID', 'GEMME_GlobalConfidence', 'F_obs']], on='FBtr_ID', how='left', suffixes=('_x', '_y'))\n",
    "\n",
    "# Verify if the Protein_length corresponds to Length\n",
    "df_DGRPRaw_missense['Length_match'] = df_DGRPRaw_missense['Length_x'].astype(int) == df_DGRPRaw_missense['Length_y']\n",
    "df_DGRPRaw_missense = df_DGRPRaw_missense[(df_DGRPRaw_missense['Length_match'])&(df_DGRPRaw_missense['FBpp_ID'].isin(df_Dmel_recap.loc[df_Dmel_recap['Representative_FBpp']==True].index.tolist()))].copy()\n",
    "print(f'Dataframe with representative proteoforms with matching length: {df_DGRPRaw_missense.shape[0]}')\n",
    "\n",
    "df_DGRPRaw_missense['Residue'] = df_DGRPRaw_missense['Mutation'].apply(lambda x: int(x[1:-1]))\n",
    "## check if the wild-type amino acid in the annotations matches the one in the protein sequence\n",
    "df_DGRPRaw_missense['WT_AA_match'] = df_DGRPRaw_missense.apply(check_wt_aa, axis=1)\n",
    "df_DGRPRaw_missense = df_DGRPRaw_missense.loc[df_DGRPRaw_missense['WT_AA_match']]\n",
    "print(f'Dataframe with representative proteoforms with matching length and wild-type amino acid: {df_DGRPRaw_missense.shape[0]}')\n",
    "\n",
    "# Start the timer\n",
    "start_time = time.time()\n",
    "# create a dico with the proteocast data \n",
    "gemme_data = create_gemme_dico(df_DGRPRaw_missense)\n",
    "end_time = time.time()\n",
    "# Calculate the elapsed time\n",
    "elapsed_time = end_time - start_time\n",
    "print(f\"gemme dico took: {elapsed_time} seconds for {len(gemme_data)} proteins\")\n",
    "\n",
    "\n",
    "## remove duplicates C>A,T producing the same aa change for example. \n",
    "df_DGRPRaw_missense = df_DGRPRaw_missense.loc[~df_DGRPRaw_missense.duplicated(subset=['FBgn_ID','FBpp_ID', 'Mutation'], keep='first')]\n",
    "print('without redundant aa changes', df_DGRPRaw_missense.shape)\n",
    "\n",
    "# Start the timer\n",
    "start_time = time.time()\n",
    "## add GEMME scores and rank, variant class and local confidence (~15 minutes for 20k proteins)\n",
    "df_DGRPRaw_missense[['GEMME_score','GEMME_rank', 'Variant_class', 'GEMME_LocalConfidence']] = df_DGRPRaw_missense.apply(lambda row: pd.Series(get_gemme_score_class(row, gemme_data)), axis=1)\n",
    "end_time = time.time()\n",
    "# Calculate the elapsed time\n",
    "elapsed_time = end_time - start_time\n",
    "print(f\"add gemme scores etc took: {elapsed_time} seconds\")\n",
    "df_DGRPRaw_missense = df_DGRPRaw_missense[['ID', 'FBgn_ID', 'FBtr_ID', 'FBpp_ID', 'Mutation', 'Residue',\n",
    "       'Length_x', 'GEMME_GlobalConfidence', 'GEMME_score', 'GEMME_rank', 'Variant_class',\n",
    "       'GEMME_LocalConfidence', 'F_obs']].copy()\n",
    "df_DGRPRaw_missense.rename(columns={'Length_x':'Length', 'ID':'SNP_ID'}, inplace=True)\n",
    "df_DGRPRaw_missense['Set_name'] = 'DGRP'\n",
    "df_DGRPRaw_missense.to_csv(f'{WORK_DIR}/csv/DGRP_allRepresentativeProteoforms.csv', index=False)"
   ]
  },
  {
   "cell_type": "markdown",
   "metadata": {},
   "source": [
    "### Keep only one proteoform with max F_obs per SNP"
   ]
  },
  {
   "cell_type": "code",
   "execution_count": 62,
   "metadata": {},
   "outputs": [
    {
     "name": "stdout",
     "output_type": "stream",
     "text": [
      "(308050, 14)\n",
      "(306674, 14)\n",
      "Number of unique SNPs: 177013\n"
     ]
    }
   ],
   "source": [
    "print(df_DGRPRaw_missense.shape)\n",
    "## remove rows with nan values meaning we don't have GEMME predictions for these proteins\n",
    "df_DGRPRaw_missense = df_DGRPRaw_missense.loc[~df_DGRPRaw_missense['F_obs'].isnull()]\n",
    "print(df_DGRPRaw_missense.shape)\n",
    "# Group by unique SNPs and select the row with the maximum F_obs for each group\n",
    "df_DGRPRaw_missense_max_fobs = df_DGRPRaw_missense.loc[df_DGRPRaw_missense.groupby(['SNP_ID', 'FBgn_ID'])['F_obs'].idxmax()]\n",
    "# Display the result\n",
    "print(f'Number of unique SNPs: {df_DGRPRaw_missense_max_fobs.shape[0]}')\n",
    "## add GMM3zscore (takes ~10 minutes for  proteins)\n",
    "df_DGRPRaw_missense_max_fobs[ 'GMM3_zscoreNeutral'] = df_DGRPRaw_missense_max_fobs.apply(lambda row: pd.Series(calculate_gmm3_class_and_zscore(row, gemme_data)), axis=1)"
   ]
  },
  {
   "cell_type": "code",
   "execution_count": 63,
   "metadata": {},
   "outputs": [],
   "source": [
    "df_DGRPRaw_missense_max_fobs.to_csv(f'{WORK_DIR}/csv/DGRP_maxFobsProteoforms.csv', index=False)"
   ]
  },
  {
   "cell_type": "code",
   "execution_count": 64,
   "metadata": {},
   "outputs": [],
   "source": [
    "del gemme_data"
   ]
  },
  {
   "cell_type": "markdown",
   "metadata": {},
   "source": [
    "### Frequencies of the SNPs"
   ]
  },
  {
   "cell_type": "markdown",
   "metadata": {},
   "source": [
    "- 205 inbred lines\n",
    "- cut -d $' ' -f10- dgrp2.tgeno.txt > dgrp2.lines.homozygote\n",
    "- grep -n '1' dgpr2.lines.homozygote -------------> 0 SNPs found, all homozygotes"
   ]
  },
  {
   "cell_type": "code",
   "execution_count": 73,
   "metadata": {},
   "outputs": [
    {
     "name": "stderr",
     "output_type": "stream",
     "text": [
      "/var/folders/v9/tv7qw0pd675c44_m3d98bz_c0000gn/T/ipykernel_20521/86042631.py:1: DtypeWarning: Columns (0) have mixed types. Specify dtype option on import or set low_memory=False.\n",
      "  df_DGRP_SNPfreq = pd.read_csv(f'{WORK_DIR}/data/dgrp2.tgeno.txt', sep=' ')\n"
     ]
    },
    {
     "name": "stdout",
     "output_type": "stream",
     "text": [
      "(4438427, 214)\n",
      "(3963420, 7) <class 'numpy.int64'>\n"
     ]
    }
   ],
   "source": [
    "df_DGRP_SNPfreq = pd.read_csv(f'{WORK_DIR}/data/dgrp2.tgeno.txt', sep=' ')\n",
    "print(df_DGRP_SNPfreq.shape)\n",
    "## remove lines' information columns\n",
    "df_DGRP_SNPfreq = df_DGRP_SNPfreq[['id','ref', 'alt', 'refc', 'altc', 'qual', 'cov']].copy()\n",
    "df_DGRP_SNPfreq = df_DGRP_SNPfreq.loc[df_DGRP_SNPfreq['id'].str.contains('SNP')].copy()\n",
    "print(df_DGRP_SNPfreq.shape, type(df_DGRP_SNPfreq.loc[0, 'refc']))\n",
    "\n",
    "#df_DGRP_SNPfreq['altc'] = df_DGRP_SNPfreq['altc'].astype('int')\n",
    "#genotypes['refc'] = genotypes['refc'].astype('int')\n",
    "df_DGRP_SNPfreq['countAllele'] = df_DGRP_SNPfreq['altc']+df_DGRP_SNPfreq['refc']\n",
    "df_DGRP_SNPfreq['MAF_A'] = df_DGRP_SNPfreq['altc']/df_DGRP_SNPfreq['countAllele'] ## alternative allele frequency \n",
    "df_DGRP_SNPfreq['MAF_R'] = df_DGRP_SNPfreq['refc']/df_DGRP_SNPfreq['countAllele'] ## reference allele frequency "
   ]
  },
  {
   "cell_type": "code",
   "execution_count": 86,
   "metadata": {},
   "outputs": [],
   "source": [
    "df_DGRP_SNPfreq = df_DGRP_SNPfreq.loc[df_DGRP_SNPfreq['id'].isin(df_DGRPRaw_missense_max_fobs['SNP_ID'].unique())].copy()"
   ]
  },
  {
   "cell_type": "code",
   "execution_count": 88,
   "metadata": {},
   "outputs": [
    {
     "data": {
      "text/html": [
       "<div>\n",
       "<style scoped>\n",
       "    .dataframe tbody tr th:only-of-type {\n",
       "        vertical-align: middle;\n",
       "    }\n",
       "\n",
       "    .dataframe tbody tr th {\n",
       "        vertical-align: top;\n",
       "    }\n",
       "\n",
       "    .dataframe thead th {\n",
       "        text-align: right;\n",
       "    }\n",
       "</style>\n",
       "<table border=\"1\" class=\"dataframe\">\n",
       "  <thead>\n",
       "    <tr style=\"text-align: right;\">\n",
       "      <th></th>\n",
       "      <th>id</th>\n",
       "      <th>ref</th>\n",
       "      <th>alt</th>\n",
       "      <th>refc</th>\n",
       "      <th>altc</th>\n",
       "      <th>qual</th>\n",
       "      <th>cov</th>\n",
       "      <th>countAllele</th>\n",
       "      <th>MAF_A</th>\n",
       "      <th>MAF_R</th>\n",
       "    </tr>\n",
       "  </thead>\n",
       "  <tbody>\n",
       "    <tr>\n",
       "      <th>117</th>\n",
       "      <td>2L_11255_SNP</td>\n",
       "      <td>A</td>\n",
       "      <td>T</td>\n",
       "      <td>197</td>\n",
       "      <td>1</td>\n",
       "      <td>999</td>\n",
       "      <td>26</td>\n",
       "      <td>198</td>\n",
       "      <td>0.005051</td>\n",
       "      <td>0.994949</td>\n",
       "    </tr>\n",
       "    <tr>\n",
       "      <th>126</th>\n",
       "      <td>2L_12460_SNP</td>\n",
       "      <td>T</td>\n",
       "      <td>C</td>\n",
       "      <td>133</td>\n",
       "      <td>61</td>\n",
       "      <td>999</td>\n",
       "      <td>40</td>\n",
       "      <td>194</td>\n",
       "      <td>0.314433</td>\n",
       "      <td>0.685567</td>\n",
       "    </tr>\n",
       "    <tr>\n",
       "      <th>127</th>\n",
       "      <td>2L_12472_SNP</td>\n",
       "      <td>G</td>\n",
       "      <td>T</td>\n",
       "      <td>204</td>\n",
       "      <td>1</td>\n",
       "      <td>999</td>\n",
       "      <td>39</td>\n",
       "      <td>205</td>\n",
       "      <td>0.004878</td>\n",
       "      <td>0.995122</td>\n",
       "    </tr>\n",
       "    <tr>\n",
       "      <th>128</th>\n",
       "      <td>2L_12486_SNP</td>\n",
       "      <td>A</td>\n",
       "      <td>C</td>\n",
       "      <td>201</td>\n",
       "      <td>4</td>\n",
       "      <td>999</td>\n",
       "      <td>39</td>\n",
       "      <td>205</td>\n",
       "      <td>0.019512</td>\n",
       "      <td>0.980488</td>\n",
       "    </tr>\n",
       "    <tr>\n",
       "      <th>139</th>\n",
       "      <td>2L_13859_SNP</td>\n",
       "      <td>A</td>\n",
       "      <td>T</td>\n",
       "      <td>203</td>\n",
       "      <td>2</td>\n",
       "      <td>999</td>\n",
       "      <td>36</td>\n",
       "      <td>205</td>\n",
       "      <td>0.009756</td>\n",
       "      <td>0.990244</td>\n",
       "    </tr>\n",
       "    <tr>\n",
       "      <th>...</th>\n",
       "      <td>...</td>\n",
       "      <td>...</td>\n",
       "      <td>...</td>\n",
       "      <td>...</td>\n",
       "      <td>...</td>\n",
       "      <td>...</td>\n",
       "      <td>...</td>\n",
       "      <td>...</td>\n",
       "      <td>...</td>\n",
       "      <td>...</td>\n",
       "    </tr>\n",
       "    <tr>\n",
       "      <th>4438245</th>\n",
       "      <td>X_22395718_SNP</td>\n",
       "      <td>G</td>\n",
       "      <td>T</td>\n",
       "      <td>185</td>\n",
       "      <td>20</td>\n",
       "      <td>999</td>\n",
       "      <td>25</td>\n",
       "      <td>205</td>\n",
       "      <td>0.097561</td>\n",
       "      <td>0.902439</td>\n",
       "    </tr>\n",
       "    <tr>\n",
       "      <th>4438246</th>\n",
       "      <td>X_22395794_SNP</td>\n",
       "      <td>G</td>\n",
       "      <td>A</td>\n",
       "      <td>184</td>\n",
       "      <td>16</td>\n",
       "      <td>999</td>\n",
       "      <td>21</td>\n",
       "      <td>200</td>\n",
       "      <td>0.080000</td>\n",
       "      <td>0.920000</td>\n",
       "    </tr>\n",
       "    <tr>\n",
       "      <th>4438254</th>\n",
       "      <td>X_22396342_SNP</td>\n",
       "      <td>T</td>\n",
       "      <td>G</td>\n",
       "      <td>121</td>\n",
       "      <td>80</td>\n",
       "      <td>999</td>\n",
       "      <td>21</td>\n",
       "      <td>201</td>\n",
       "      <td>0.398010</td>\n",
       "      <td>0.601990</td>\n",
       "    </tr>\n",
       "    <tr>\n",
       "      <th>4438256</th>\n",
       "      <td>X_22397129_SNP</td>\n",
       "      <td>C</td>\n",
       "      <td>T</td>\n",
       "      <td>200</td>\n",
       "      <td>2</td>\n",
       "      <td>999</td>\n",
       "      <td>18</td>\n",
       "      <td>202</td>\n",
       "      <td>0.009901</td>\n",
       "      <td>0.990099</td>\n",
       "    </tr>\n",
       "    <tr>\n",
       "      <th>4438257</th>\n",
       "      <td>X_22397328_SNP</td>\n",
       "      <td>G</td>\n",
       "      <td>T</td>\n",
       "      <td>119</td>\n",
       "      <td>75</td>\n",
       "      <td>999</td>\n",
       "      <td>17</td>\n",
       "      <td>194</td>\n",
       "      <td>0.386598</td>\n",
       "      <td>0.613402</td>\n",
       "    </tr>\n",
       "  </tbody>\n",
       "</table>\n",
       "<p>176969 rows × 10 columns</p>\n",
       "</div>"
      ],
      "text/plain": [
       "                     id ref alt  refc  altc  qual  cov  countAllele     MAF_A  \\\n",
       "117        2L_11255_SNP   A   T   197     1   999   26          198  0.005051   \n",
       "126        2L_12460_SNP   T   C   133    61   999   40          194  0.314433   \n",
       "127        2L_12472_SNP   G   T   204     1   999   39          205  0.004878   \n",
       "128        2L_12486_SNP   A   C   201     4   999   39          205  0.019512   \n",
       "139        2L_13859_SNP   A   T   203     2   999   36          205  0.009756   \n",
       "...                 ...  ..  ..   ...   ...   ...  ...          ...       ...   \n",
       "4438245  X_22395718_SNP   G   T   185    20   999   25          205  0.097561   \n",
       "4438246  X_22395794_SNP   G   A   184    16   999   21          200  0.080000   \n",
       "4438254  X_22396342_SNP   T   G   121    80   999   21          201  0.398010   \n",
       "4438256  X_22397129_SNP   C   T   200     2   999   18          202  0.009901   \n",
       "4438257  X_22397328_SNP   G   T   119    75   999   17          194  0.386598   \n",
       "\n",
       "            MAF_R  \n",
       "117      0.994949  \n",
       "126      0.685567  \n",
       "127      0.995122  \n",
       "128      0.980488  \n",
       "139      0.990244  \n",
       "...           ...  \n",
       "4438245  0.902439  \n",
       "4438246  0.920000  \n",
       "4438254  0.601990  \n",
       "4438256  0.990099  \n",
       "4438257  0.613402  \n",
       "\n",
       "[176969 rows x 10 columns]"
      ]
     },
     "execution_count": 88,
     "metadata": {},
     "output_type": "execute_result"
    }
   ],
   "source": [
    "df_DGRP_SNPfreq ## ref and alt: ref is the Allele in DGRPRaw file, but the codon change might different due to the strand orientation."
   ]
  },
  {
   "cell_type": "code",
   "execution_count": 95,
   "metadata": {},
   "outputs": [],
   "source": [
    "df_DGRP_SNPfreq.to_csv(f'{WORK_DIR}/csv/DGRP_SNPfreq.csv', index=False)"
   ]
  },
  {
   "cell_type": "markdown",
   "metadata": {},
   "source": [
    " - 2 810 208 1% \n",
    " - 1 796 221 5%"
   ]
  },
  {
   "cell_type": "markdown",
   "metadata": {},
   "source": [
    "## Lethal"
   ]
  },
  {
   "cell_type": "code",
   "execution_count": 312,
   "metadata": {},
   "outputs": [],
   "source": [
    "## Filter raws without mapping to the genome information\n",
    "df_LethalRaw = pd.read_csv(f'{WORK_DIR}/data/LethalAllele_EMS.txt', sep='\\t')\n",
    "df_LethalRaw = df_LethalRaw[df_LethalRaw['MUTATIONS_MAPPED_TO_GENOME']!='-']\n",
    "df_LethalRaw.rename(columns={'#SUBMITTED ID':'Allele'}, inplace=True)\n",
    "\n",
    "def extract_missense_variants_Lethal(row):\n",
    "    l_mut=[]; l_prot=[];l_nachange=[]\n",
    "    for x in row['MUTATIONS_MAPPED_TO_GENOME'].split('<newline>'):\n",
    "        mutations_mapped = patternMutProt.findall(x)\n",
    "        \n",
    "        \n",
    "        if mutations_mapped:\n",
    "            l_mut_prot = [(i.split(' | ')[0],i.split(' | ')[1])  for i in mutations_mapped]\n",
    "            na_change = patternNAchange.findall(x)[0]                      ## associated Nucleotide changes to the allele\n",
    "            for mut, prot in l_mut_prot:\n",
    "                prot=CorrectProtname(prot)\n",
    "                try:\n",
    "                    FBpp_ID = df_Dmel_recap.loc[df_Dmel_recap['Protein_symbol']==prot].index[0]\n",
    "                    if FBpp_ID:\n",
    "                        l_mut.append(mut)\n",
    "                        l_prot.append(FBpp_ID)\n",
    "                        l_nachange.append(na_change)\n",
    "                    else:\n",
    "                        print('protein symbol not found:', prot)\n",
    "                except:\n",
    "                    print('protein symbol not found:', prot)\n",
    "                    continue\n",
    "    return l_nachange, l_mut, l_prot \n"
   ]
  },
  {
   "cell_type": "code",
   "execution_count": 313,
   "metadata": {},
   "outputs": [
    {
     "name": "stdout",
     "output_type": "stream",
     "text": [
      "protein symbol not found: Src42A-PC\n",
      "protein symbol not found: Src42A-PD\n",
      "protein symbol not found: Src42A-PC\n",
      "Dataframe with representative proteoforms with matching length: 2485\n",
      "Dataframe with representative proteoforms with matching length and wild-type amino acid: 2485\n",
      "without redundant aa changes (2365, 18)\n"
     ]
    }
   ],
   "source": [
    "df_LethalRaw = df_LethalRaw.copy()\n",
    "df_LethalRaw[['SNP_ID', 'Mutation', 'FBpp_ID']] = df_LethalRaw.apply(lambda row: pd.Series(extract_missense_variants_Lethal(row)), axis=1)\n",
    "# Explode the lists in the DataFrame\n",
    "df_LethalRaw = df_LethalRaw.explode(['SNP_ID', 'FBpp_ID','Mutation'])\n",
    "df_LethalRaw = df_LethalRaw.loc[~df_LethalRaw['FBpp_ID'].isnull()].copy()\n",
    "# Reset the index after exploding\n",
    "df_LethalRaw.reset_index(drop=True, inplace=True)\n",
    "df_LethalRaw = df_LethalRaw.loc[(df_LethalRaw['FBpp_ID'].isin(df_Dmel_recap_pp['FBpp_ID']))]\n",
    "df_LethalRaw['Set_name'] = 'Lethal'\n",
    "#### verify\n",
    "df_LethalRaw = df_LethalRaw.merge(df_Dmel_recap_pp[['FBtr_ID', 'FBgn_ID', 'GEMME_GlobalConfidence', 'F_obs', 'Length', 'FBpp_ID']], on='FBpp_ID', how='left')\n",
    "\n",
    "df_LethalRaw = df_LethalRaw[(df_LethalRaw['FBpp_ID'].isin(df_Dmel_recap.loc[df_Dmel_recap['Representative_FBpp']==True].index.tolist()))].copy()\n",
    "print(f'Dataframe with representative proteoforms with matching length: {df_LethalRaw.shape[0]}')\n",
    "df_LethalRaw['Residue'] = df_LethalRaw['Mutation'].apply(lambda x: int(x[1:-1]))\n",
    "df_LethalRaw['WT_AA_match'] = df_LethalRaw.apply(check_wt_aa, axis=1)\n",
    "df_LethalRaw = df_LethalRaw.loc[df_LethalRaw['WT_AA_match']]\n",
    "print(f'Dataframe with representative proteoforms with matching length and wild-type amino acid: {df_LethalRaw.shape[0]}')\n",
    "# create a dico with the proteocast data \n",
    "gemme_data = create_gemme_dico(df_LethalRaw)\n",
    "## remove duplicates C>A,T producing the same aa change for example. \n",
    "df_LethalRaw = df_LethalRaw.loc[~df_LethalRaw.duplicated(subset=['FBgn_ID','FBpp_ID', 'Mutation'], keep='first')].copy()\n",
    "print('without redundant aa changes', df_LethalRaw.shape)\n",
    "## add GEMME scores and rank, variant class and local confidence\n",
    "df_LethalRaw[['GEMME_score','GEMME_rank', 'Variant_class', 'GEMME_LocalConfidence']] = df_LethalRaw.apply(lambda row: pd.Series(get_gemme_score_class(row, gemme_data)), axis=1)\n",
    "## in some annotations we find comments like 'Two adjacent amino acids...' that we need to remove\n",
    "df_LethalRaw = df_LethalRaw.loc[~df_LethalRaw['MUTATIONS_MAPPED_TO_GENOME'].str.contains('Two')].copy()\n",
    "##manual correction\n",
    "df_LethalRaw = df_LethalRaw.loc[df_LethalRaw['Allele']!='FBal0230457']\n",
    "#Src42A-PC doesn't exist in 6.44 version\n",
    "df_LethalRaw = df_LethalRaw[['Allele','MUTATIONS_MAPPED_TO_GENOME', 'SNP_ID', 'Mutation', 'FBpp_ID', 'Set_name', 'FBtr_ID',\n",
    "       'FBgn_ID', 'GEMME_GlobalConfidence', 'F_obs', 'Length', 'Residue',\n",
    "       'GEMME_score', 'GEMME_rank', 'Variant_class',\n",
    "       'GEMME_LocalConfidence']].copy()"
   ]
  },
  {
   "cell_type": "code",
   "execution_count": 255,
   "metadata": {},
   "outputs": [],
   "source": [
    "df_LethalRaw.to_csv(f'{WORK_DIR}/csv/Lethal_allRepresentativeProteoforms.csv', index=False)"
   ]
  },
  {
   "cell_type": "markdown",
   "metadata": {},
   "source": [
    "### Keep only one FBpp per SNP"
   ]
  },
  {
   "cell_type": "code",
   "execution_count": 288,
   "metadata": {},
   "outputs": [
    {
     "name": "stdout",
     "output_type": "stream",
     "text": [
      "(2348, 16)\n",
      "(2348, 16)\n",
      "Number of unique SNPs: 1066\n"
     ]
    }
   ],
   "source": [
    "print(df_LethalRaw.shape)\n",
    "## remove rows with nan values meaning we don't have GEMME predictions for these proteins\n",
    "df_LethalRaw = df_LethalRaw.loc[~df_LethalRaw['F_obs'].isnull()]\n",
    "print(df_LethalRaw.shape)\n",
    "# Group by unique SNPs and select the row with the maximum F_obs for each group\n",
    "df_LethalRaw_max_fobs = df_LethalRaw.loc[df_LethalRaw.groupby(['Allele', 'SNP_ID', 'FBgn_ID'])['F_obs'].idxmax()]\n",
    "\n",
    "## comment=Nucleotide substitution reported with respect to ewg-PE isoform. na_change=C271604A pr_change=Q544K | ewg-PA; Q544K | ewg-PB; Q544K | ewg-PC; R568R | ewg-PD; Q544K | ewg-PE; Q390K | ewg-PF; Q390K | ewg-PG; R414R | ewg-PH; Q393K | ewg-PJ; Q547K | ewg-PK; Q532K | ewg-PL; Q499K | ewg-PM\n",
    "## and in the annotations the proteoform with the maximum Fobs which is ewg-PD keeps the WT R568R\n",
    "df_LethalRaw_max_fobs.loc[2075] = df_LethalRaw.loc[2076]\n",
    "\n",
    "# Display the result\n",
    "print(f'Number of unique SNPs: {df_LethalRaw_max_fobs.shape[0]}')\n",
    "## add GMM3zscore (takes ~10 minutes for  proteins)\n",
    "df_LethalRaw_max_fobs[ 'GMM3_zscoreNeutral'] = df_LethalRaw_max_fobs.apply(lambda row: pd.Series(calculate_gmm3_class_and_zscore(row, gemme_data)), axis=1)"
   ]
  },
  {
   "cell_type": "code",
   "execution_count": 289,
   "metadata": {},
   "outputs": [],
   "source": [
    "df_LethalRaw_max_fobs.to_csv(f'{WORK_DIR}/csv/Lethal_maxFobsProteoforms.csv', index=False)"
   ]
  },
  {
   "cell_type": "markdown",
   "metadata": {},
   "source": [
    "## ALL "
   ]
  },
  {
   "cell_type": "markdown",
   "metadata": {},
   "source": [
    "if GEMME_GlobalConfidence is NaN it means we don't have the predictions"
   ]
  },
  {
   "cell_type": "code",
   "execution_count": 39,
   "metadata": {},
   "outputs": [],
   "source": [
    "df_DEST = pd.read_csv(f'{WORK_DIR}/csv/DEST_maxFobsProteoforms.csv', sep=',')\n",
    "del df_DEST['INFO']\n",
    "df_Hypomorphic = pd.read_csv(f'{WORK_DIR}/csv/Hypomorphic_maxFobsProteoforms.csv', sep=',')\n",
    "df_Hypomorphic['Phenotype'] = df_Hypomorphic['Phenotype'].apply(eval)\n",
    "del df_Hypomorphic['Phenotype']\n",
    "del df_Hypomorphic['is_lethal']\n",
    "df_DGRP = pd.read_csv(f'{WORK_DIR}/csv/DGRP_maxFobsProteoforms.csv', sep=',')\n",
    "df_Lethal = pd.read_csv(f'{WORK_DIR}/csv/Lethal_maxFobsProteoforms.csv', sep=',')\n",
    "del df_Lethal['MUTATIONS_MAPPED_TO_GENOME']\n",
    "\n",
    "df_ProteoCast_Benchmark = pd.concat([df_DEST, df_DGRP, df_Hypomorphic, df_Lethal], axis=0, ignore_index=True)\n",
    "#del df_ProteoCast_Benchmark['Allele']"
   ]
  },
  {
   "cell_type": "code",
   "execution_count": 40,
   "metadata": {},
   "outputs": [],
   "source": [
    "tmp = df_ProteoCast_Benchmark.loc[(df_ProteoCast_Benchmark['Set_name'].isin([\"DEST2\", 'Lethal']))].copy()\n",
    "ind_lethal_DEST = tmp[(tmp.duplicated(subset=['FBpp_ID', 'Mutation'], keep=False))].index.tolist()\n",
    "tmp = df_ProteoCast_Benchmark.loc[(df_ProteoCast_Benchmark['Set_name'].isin([\"DGRP\", 'Lethal']))].copy()\n",
    "ind_lethal_DGRP = tmp[(tmp.duplicated(subset=['FBpp_ID', 'Mutation'], keep=False))].index.tolist()\n",
    "\n",
    "ind_lethal_DEST_DGRP = set(ind_lethal_DGRP).intersection(set(ind_lethal_DEST))\n",
    "ind_leth_DEST_DGRP_all  = set(ind_lethal_DGRP)|set(ind_lethal_DEST)\n",
    "df_ProteoCast_Benchmark.loc[(df_ProteoCast_Benchmark.index.isin(list(ind_leth_DEST_DGRP_all)))&(df_ProteoCast_Benchmark['Set_name']=='Lethal')].to_csv('../csv/ProteoCast_Benchmark_Lethal_DEST2_DGRP.csv', index=False)"
   ]
  },
  {
   "cell_type": "code",
   "execution_count": 321,
   "metadata": {},
   "outputs": [],
   "source": [
    "df_ProteoCast_Benchmark.loc[df_ProteoCast_Benchmark['Set_name'].isin(['DGRP', 'DEST2']),'True_label']=0\n",
    "df_ProteoCast_Benchmark.loc[df_ProteoCast_Benchmark['Set_name']=='Lethal','True_label']=1\n",
    "\n",
    "df_ProteoCast_Benchmark['Variant_label'] = df_ProteoCast_Benchmark['Variant_class']\n",
    "df_ProteoCast_Benchmark.loc[:, 'Variant_class'] = df_ProteoCast_Benchmark['Variant_class'].replace({'neutral': 0, 'uncertain': 0.5, 'impactful': 1})"
   ]
  },
  {
   "cell_type": "code",
   "execution_count": 315,
   "metadata": {},
   "outputs": [
    {
     "name": "stdout",
     "output_type": "stream",
     "text": [
      "Lethal (1066, 16)\n",
      "Hypomorphic (403, 16)\n",
      "DGRP (177013, 16)\n",
      "DEST2 (331341, 16)\n"
     ]
    }
   ],
   "source": [
    "#dico_sameMut = {} no need anymore\n",
    "for set_name in ['Lethal', 'Hypomorphic', 'DGRP', 'DEST2', ]:\n",
    "    same_mut = df_ProteoCast_Benchmark.loc[df_ProteoCast_Benchmark['Set_name']==set_name].copy()\n",
    "    print(set_name, same_mut.shape)\n",
    "    #dico_sameMut[set_name] = same_mut.loc[same_mut.duplicated(subset=['FBpp_ID', 'Mutation'], keep='first')].index.tolist()\n",
    "#combined_list = [item for sublist in dico_sameMut.values() for item in sublist]\n",
    "#df_ProteoCast_Benchmark = df_ProteoCast_Benchmark.loc[~df_ProteoCast_Benchmark.index.isin(combined_list)].copy()"
   ]
  },
  {
   "cell_type": "code",
   "execution_count": 322,
   "metadata": {},
   "outputs": [],
   "source": [
    "df_ProteoCast_Benchmark.to_csv(f'{WORK_DIR}/csv/ProteoCast_Benchmark.csv', index=False)"
   ]
  },
  {
   "cell_type": "markdown",
   "metadata": {},
   "source": [
    "## Add number of mutations to the recapitulative file"
   ]
  },
  {
   "cell_type": "code",
   "execution_count": 28,
   "metadata": {},
   "outputs": [],
   "source": [
    "df_DEST = pd.read_csv(f'{WORK_DIR}/csv/DEST_allRepresentativeProteoforms.csv', sep=',')\n",
    "del df_DEST['INFO']\n",
    "df_Hypomorphic = pd.read_csv(f'{WORK_DIR}/csv/Hypomorphic_allRepresentativeProteoforms.csv', sep=',')\n",
    "df_Hypomorphic['Phenotype'] = df_Hypomorphic['Phenotype'].apply(eval)\n",
    "del df_Hypomorphic['Phenotype']\n",
    "df_DGRP = pd.read_csv(f'{WORK_DIR}/csv/DGRP_allRepresentativeProteoforms.csv', sep=',')\n",
    "df_Lethal = pd.read_csv(f'{WORK_DIR}/csv/Lethal_allRepresentativeProteoforms.csv', sep=',')"
   ]
  },
  {
   "cell_type": "code",
   "execution_count": null,
   "metadata": {},
   "outputs": [
    {
     "data": {
      "text/plain": [
       "(20694, 13110)"
      ]
     },
     "execution_count": 34,
     "metadata": {},
     "output_type": "execute_result"
    }
   ],
   "source": [
    "df_DEST['FBpp_ID'].nunique(), df_DEST['FBgn_ID'].nunique() "
   ]
  },
  {
   "cell_type": "code",
   "execution_count": 8,
   "metadata": {},
   "outputs": [],
   "source": [
    "df_natPop = pd.concat([df_DEST, df_DGRP], axis=0, ignore_index=True)\n",
    "common_mut_ind = df_natPop.loc[df_natPop.duplicated(subset=['FBpp_ID', 'Mutation'], keep=False)].index.tolist()#['Set_name'].value_counts()#.sort_values(by=['FBpp_ID', 'Mutation'])\n",
    "union_mut_ind = df_natPop.loc[(df_natPop.duplicated(subset=['FBpp_ID', 'Mutation'], keep=False))&(df_natPop['Set_name']=='DEST2')].index.tolist()#['Set_name'].value_counts()#.sort_values(by=['FBpp_ID', 'Mutation'])\n",
    "df_natPop_unique = df_natPop.loc[~df_natPop.index.isin(common_mut_ind)].copy()\n",
    "df_natPop_union = df_natPop.drop(index=union_mut_ind).copy()"
   ]
  },
  {
   "cell_type": "code",
   "execution_count": 41,
   "metadata": {},
   "outputs": [],
   "source": [
    "# Create a dictionary to store the counts and unique residues\n",
    "counts = {\n",
    "    'n_Lethal': df_Lethal['FBpp_ID'].value_counts(),\n",
    "    'n_Lethal_res': df_Lethal.groupby('FBpp_ID')['Residue'].nunique(),\n",
    "    'n_Hypomorphic': df_Hypomorphic['FBpp_ID'].value_counts(),\n",
    "    'n_Hypomorphic_res': df_Hypomorphic.groupby('FBpp_ID')['Residue'].nunique(),\n",
    "    'n_DEST2': df_natPop_unique[df_natPop_unique['Set_name'] == 'DEST2']['FBpp_ID'].value_counts(),\n",
    "    'n_DEST2_res': df_natPop_unique[df_natPop_unique['Set_name'] == 'DEST2'].groupby('FBpp_ID')['Residue'].nunique(),\n",
    "    'n_DGRP': df_natPop_unique[df_natPop_unique['Set_name'] == 'DGRP']['FBpp_ID'].value_counts(),\n",
    "    'n_DGRP_res': df_natPop_unique[df_natPop_unique['Set_name'] == 'DGRP'].groupby('FBpp_ID')['Residue'].nunique(),\n",
    "    'n_DEST_DGRP_union': df_natPop_union['FBpp_ID'].value_counts(),\n",
    "    'n_DEST_DGRP_union_res': df_natPop_union.groupby('FBpp_ID')['Residue'].nunique()\n",
    "}\n",
    "\n",
    "# Assign the counts to the DataFrame\n",
    "for col, count in counts.items():\n",
    "    df_Dmel_recap[col] = df_Dmel_recap.index.map(count).fillna(0)"
   ]
  },
  {
   "cell_type": "code",
   "execution_count": 60,
   "metadata": {},
   "outputs": [],
   "source": [
    "df_Dmel_recap.to_csv(f'{WORK_DIR}/csv/Dmel6.44PredictionsRecap.csv', index=True)"
   ]
  }
 ],
 "metadata": {
  "kernelspec": {
   "display_name": "base",
   "language": "python",
   "name": "python3"
  },
  "language_info": {
   "codemirror_mode": {
    "name": "ipython",
    "version": 3
   },
   "file_extension": ".py",
   "mimetype": "text/x-python",
   "name": "python",
   "nbconvert_exporter": "python",
   "pygments_lexer": "ipython3",
   "version": "3.11.5"
  }
 },
 "nbformat": 4,
 "nbformat_minor": 2
}
